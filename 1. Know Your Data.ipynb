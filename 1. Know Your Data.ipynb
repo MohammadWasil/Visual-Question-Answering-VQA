{
 "cells": [
  {
   "cell_type": "markdown",
   "metadata": {
    "colab_type": "text",
    "id": "6HIwlbmDJjc7"
   },
   "source": [
    "Download the questions and Annotation"
   ]
  },
  {
   "cell_type": "code",
   "execution_count": 0,
   "metadata": {
    "colab": {
     "base_uri": "https://localhost:8080/",
     "height": 782
    },
    "colab_type": "code",
    "id": "M_qmlxmKzjV4",
    "outputId": "e0275e79-7825-43d8-f7e6-cd0876b52786"
   },
   "outputs": [
    {
     "name": "stdout",
     "output_type": "stream",
     "text": [
      "/content\n",
      "--2019-06-15 12:11:35--  https://s3.amazonaws.com/cvmlp/vqa/mscoco/vqa/Questions_Val_mscoco.zip\n",
      "Resolving s3.amazonaws.com (s3.amazonaws.com)... 52.216.236.237\n",
      "Connecting to s3.amazonaws.com (s3.amazonaws.com)|52.216.236.237|:443... connected.\n",
      "HTTP request sent, awaiting response... 200 OK\n",
      "Length: 10594497 (10M) [application/zip]\n",
      "Saving to: ‘Questions_Val_mscoco.zip.1’\n",
      "\n",
      "Questions_Val_mscoc 100%[===================>]  10.10M  1.92MB/s    in 9.8s    \n",
      "\n",
      "2019-06-15 12:11:46 (1.03 MB/s) - ‘Questions_Val_mscoco.zip.1’ saved [10594497/10594497]\n",
      "\n",
      "--2019-06-15 12:11:48--  https://s3.amazonaws.com/cvmlp/vqa/mscoco/vqa/Annotations_Val_mscoco.zip\n",
      "Resolving s3.amazonaws.com (s3.amazonaws.com)... 52.216.108.213\n",
      "Connecting to s3.amazonaws.com (s3.amazonaws.com)|52.216.108.213|:443... connected.\n",
      "HTTP request sent, awaiting response... 200 OK\n",
      "Length: 6031604 (5.8M) [application/zip]\n",
      "Saving to: ‘Annotations_Val_mscoco.zip.1’\n",
      "\n",
      "Annotations_Val_msc 100%[===================>]   5.75M  1.42MB/s    in 6.8s    \n",
      "\n",
      "2019-06-15 12:11:56 (872 KB/s) - ‘Annotations_Val_mscoco.zip.1’ saved [6031604/6031604]\n",
      "\n",
      "--2019-06-15 12:11:58--  https://s3.amazonaws.com/cvmlp/vqa/mscoco/vqa/Questions_Train_mscoco.zip\n",
      "Resolving s3.amazonaws.com (s3.amazonaws.com)... 52.216.137.134\n",
      "Connecting to s3.amazonaws.com (s3.amazonaws.com)|52.216.137.134|:443... connected.\n",
      "HTTP request sent, awaiting response... 200 OK\n",
      "Length: 21985607 (21M) [application/zip]\n",
      "Saving to: ‘Questions_Train_mscoco.zip.1’\n",
      "\n",
      "Questions_Train_msc 100%[===================>]  20.97M  10.7MB/s    in 2.0s    \n",
      "\n",
      "2019-06-15 12:12:01 (10.7 MB/s) - ‘Questions_Train_mscoco.zip.1’ saved [21985607/21985607]\n",
      "\n",
      "--2019-06-15 12:12:03--  https://s3.amazonaws.com/cvmlp/vqa/mscoco/vqa/Annotations_Train_mscoco.zip\n",
      "Resolving s3.amazonaws.com (s3.amazonaws.com)... 54.231.81.83\n",
      "Connecting to s3.amazonaws.com (s3.amazonaws.com)|54.231.81.83|:443... connected.\n",
      "HTTP request sent, awaiting response... 200 OK\n",
      "Length: 12167843 (12M) [application/zip]\n",
      "Saving to: ‘Annotations_Train_mscoco.zip’\n",
      "\n",
      "Annotations_Train_m 100%[===================>]  11.60M  6.77MB/s    in 1.7s    \n",
      "\n",
      "2019-06-15 12:12:06 (6.77 MB/s) - ‘Annotations_Train_mscoco.zip’ saved [12167843/12167843]\n",
      "\n"
     ]
    }
   ],
   "source": [
    "%cd /content\n",
    "!wget https://s3.amazonaws.com/cvmlp/vqa/mscoco/vqa/Questions_Val_mscoco.zip\n",
    "!wget https://s3.amazonaws.com/cvmlp/vqa/mscoco/vqa/Annotations_Val_mscoco.zip\n",
    "!wget https://s3.amazonaws.com/cvmlp/vqa/mscoco/vqa/Questions_Train_mscoco.zip\n",
    "!wget https://s3.amazonaws.com/cvmlp/vqa/mscoco/vqa/Annotations_Train_mscoco.zip"
   ]
  },
  {
   "cell_type": "code",
   "execution_count": 0,
   "metadata": {
    "colab": {
     "base_uri": "https://localhost:8080/",
     "height": 187
    },
    "colab_type": "code",
    "id": "-8jACScI0GZZ",
    "outputId": "0636c4db-93bc-4130-fab5-0f5722a93b18"
   },
   "outputs": [
    {
     "name": "stdout",
     "output_type": "stream",
     "text": [
      "Archive:  Annotations_Val_mscoco.zip\n",
      "  inflating: mscoco_val2014_annotations.json  \n",
      "Archive:  Questions_Val_mscoco.zip\n",
      "  inflating: OpenEnded_mscoco_val2014_questions.json  \n",
      "  inflating: MultipleChoice_mscoco_val2014_questions.json  \n",
      "Archive:  Annotations_Train_mscoco.zip\n",
      "  inflating: mscoco_train2014_annotations.json  \n",
      "Archive:  Questions_Train_mscoco.zip\n",
      "  inflating: OpenEnded_mscoco_train2014_questions.json  \n",
      "  inflating: MultipleChoice_mscoco_train2014_questions.json  \n"
     ]
    }
   ],
   "source": [
    "# Unzip questions and answers of training and validation data!\n",
    "!unzip Annotations_Val_mscoco.zip\n",
    "!unzip Questions_Val_mscoco.zip\n",
    "\n",
    "!unzip Annotations_Train_mscoco.zip\n",
    "!unzip Questions_Train_mscoco.zip"
   ]
  },
  {
   "cell_type": "markdown",
   "metadata": {
    "colab_type": "text",
    "id": "KexDqOWABgo1"
   },
   "source": [
    "## Get To know Your Data"
   ]
  },
  {
   "cell_type": "code",
   "execution_count": 0,
   "metadata": {
    "colab": {},
    "colab_type": "code",
    "id": "7oBubrrc71Fz"
   },
   "outputs": [],
   "source": [
    "# Load json question file.\n",
    "\n",
    "import json\n",
    "from pprint import pprint\n",
    "\n",
    "with open('OpenEnded_mscoco_val2014_questions.json') as file:\n",
    "    open_question_json_val = json.load(file)\n",
    "    \n",
    "with open('OpenEnded_mscoco_train2014_questions.json') as file:\n",
    "    open_question_json_train = json.load(file)"
   ]
  },
  {
   "cell_type": "code",
   "execution_count": null,
   "metadata": {},
   "outputs": [],
   "source": [
    "open_question_json_train\n",
    "# pprint(open_question_json_train)\n",
    "'''\n",
    "The output looks like this:\n",
    "{'data_subtype': 'train2014',\n",
    " 'data_type': 'mscoco',\n",
    " 'info': {'contributor': 'VQA Team',\n",
    "  'date_created': '2015-10-02 19:28:08',\n",
    "  'description': 'This is v1.0 of the VQA dataset.',\n",
    "  'url': 'http://visualqa.org',\n",
    "  'version': '1.0',\n",
    "  'year': 2015},\n",
    " 'license': {'name': 'Creative Commons Attribution 4.0 International License',\n",
    "  'url': 'http://creativecommons.org/licenses/by/4.0/'},\n",
    " 'questions': [{'image_id': 487025,\n",
    "   'question': 'What shape is the bench seat?',\n",
    "   'question_id': 4870250},\n",
    "  {'image_id': 487025,\n",
    "   'question': 'Is there a shadow?',\n",
    "   'question_id': 4870251},\n",
    "  {'image_id': 487025,\n",
    "   'question': 'Is this one bench or multiple benches?',\n",
    "   'question_id': 4870252},\n",
    "  {'image_id': 78077,\n",
    "   'question': 'Is this a modern train?',\n",
    "   'question_id': 780770},\n",
    "  {'image_id': 78077,\n",
    "   'question': 'What color is the stripe on the train?',\n",
    "   'question_id': 780771},\n",
    "  {'image_id': 78077,\n",
    "   'question': 'What is on the other side of the train?',\n",
    "   'question_id': 780772},\n",
    "  {'image_id': 501867,\n",
    "   'question': 'Is the bus driver on any kind of antidepressant medication?',\n",
    "   'question_id': 5018672},\n",
    "  {'image_id': 501867,\n",
    "   'question': 'Is the bus moving?',\n",
    "   'question_id': 5018670},\n",
    "  {'image_id': 501867,\n",
    "   'question': 'What color is the bus?',\n",
    "   'question_id': 5018671},\n",
    "   ...\n",
    "   {'image_id': 246636,\n",
    "   'question': \"What color is the closest women's shirt?\",\n",
    "   'question_id': 2466361},\n",
    "  {'image_id': 246636,\n",
    "   'question': 'Are these canoes overcrowded?',\n",
    "   'question_id': 2466362},\n",
    "  {'image_id': 405541,\n",
    "   'question': 'What breed of cat is in the photo?',\n",
    "   'question_id': 4055410},\n",
    "  ...],\n",
    " 'task_type': 'Open-Ended'}\n",
    "'''"
   ]
  },
  {
   "cell_type": "code",
   "execution_count": 0,
   "metadata": {
    "colab": {},
    "colab_type": "code",
    "id": "jtXIyxE3-PPj"
   },
   "outputs": [],
   "source": [
    "# Load json answers file\n",
    "\n",
    "with open('mscoco_val2014_annotations.json') as file:\n",
    "    annotation_json_val = json.load(file)\n",
    "    \n",
    "with open('mscoco_train2014_annotations.json') as file:\n",
    "    annotation_json_train = json.load(file)"
   ]
  },
  {
   "cell_type": "code",
   "execution_count": null,
   "metadata": {},
   "outputs": [],
   "source": [
    "annotation_json_train\n",
    "#pprint(annotation_json_train)\n",
    "'''\n",
    "The output looks like this:\n",
    "{'annotations': [{'answer_type': 'other',\n",
    "   'answers': [{'answer': 'oval', 'answer_confidence': 'yes', 'answer_id': 1},\n",
    "    {'answer': 'semi circle', 'answer_confidence': 'yes', 'answer_id': 2},\n",
    "    {'answer': 'curved', 'answer_confidence': 'yes', 'answer_id': 3},\n",
    "    {'answer': 'curved', 'answer_confidence': 'yes', 'answer_id': 4},\n",
    "    {'answer': 'double curve', 'answer_confidence': 'yes', 'answer_id': 5},\n",
    "    {'answer': 'banana', 'answer_confidence': 'maybe', 'answer_id': 6},\n",
    "    {'answer': 'curved', 'answer_confidence': 'yes', 'answer_id': 7},\n",
    "    {'answer': 'wavy', 'answer_confidence': 'yes', 'answer_id': 8},\n",
    "    {'answer': 'twisting', 'answer_confidence': 'no', 'answer_id': 9},\n",
    "    {'answer': 'curved', 'answer_confidence': 'maybe', 'answer_id': 10}],\n",
    "   'image_id': 487025,\n",
    "   'multiple_choice_answer': 'curved',\n",
    "   'question_id': 4870250,\n",
    "   'question_type': 'what'},\n",
    "  {'answer_type': 'yes/no',\n",
    "   'answers': [{'answer': 'yes', 'answer_confidence': 'yes', 'answer_id': 1},\n",
    "    {'answer': 'yes', 'answer_confidence': 'yes', 'answer_id': 2},\n",
    "    {'answer': 'yes', 'answer_confidence': 'yes', 'answer_id': 3},\n",
    "    {'answer': 'yes', 'answer_confidence': 'yes', 'answer_id': 4},\n",
    "    {'answer': 'yes', 'answer_confidence': 'yes', 'answer_id': 5},\n",
    "    {'answer': 'yes', 'answer_confidence': 'yes', 'answer_id': 6},\n",
    "    {'answer': 'yes', 'answer_confidence': 'yes', 'answer_id': 7},\n",
    "    {'answer': 'yes', 'answer_confidence': 'yes', 'answer_id': 8},\n",
    "    {'answer': 'yes', 'answer_confidence': 'yes', 'answer_id': 9},\n",
    "    {'answer': 'yes', 'answer_confidence': 'yes', 'answer_id': 10}],\n",
    "   'image_id': 487025,\n",
    "   'multiple_choice_answer': 'yes',\n",
    "   'question_id': 4870251,\n",
    "   'question_type': 'is there a'},\n",
    "   ...\n",
    "   {'answer_type': 'other',\n",
    "   'answers': [{'answer': 'siamese',\n",
    "     'answer_confidence': 'yes',\n",
    "     'answer_id': 1},\n",
    "    {'answer': 'siamese', 'answer_confidence': 'yes', 'answer_id': 2},\n",
    "    {'answer': 'siamese', 'answer_confidence': 'yes', 'answer_id': 3},\n",
    "    {'answer': 'siamese', 'answer_confidence': 'yes', 'answer_id': 4},\n",
    "    {'answer': 'not sure', 'answer_confidence': 'no', 'answer_id': 5},\n",
    "    {'answer': 'siamese', 'answer_confidence': 'no', 'answer_id': 6},\n",
    "    {'answer': 'siamese', 'answer_confidence': 'yes', 'answer_id': 7},\n",
    "    {'answer': 'persian', 'answer_confidence': 'yes', 'answer_id': 8},\n",
    "    {'answer': 'siamese', 'answer_confidence': 'maybe', 'answer_id': 9},\n",
    "    {'answer': 'tortoiseshell', 'answer_confidence': 'no', 'answer_id': 10}],\n",
    "   'image_id': 405541,\n",
    "   'multiple_choice_answer': 'siamese',\n",
    "   'question_id': 4055410,\n",
    "   'question_type': 'what'},\n",
    "  ...],\n",
    " 'data_subtype': 'train2014',\n",
    " 'data_type': 'mscoco',\n",
    " 'info': {'contributor': 'VQA Team',\n",
    "  'date_created': '2015-10-02 19:28:08',\n",
    "  'description': 'This is v1.0 of the VQA dataset.',\n",
    "  'url': 'http://visualqa.org',\n",
    "  'version': '1.0',\n",
    "  'year': 2015},\n",
    " 'license': {'name': 'Creative Commons Attribution 4.0 International License',\n",
    "  'url': 'http://creativecommons.org/licenses/by/4.0/'}}\n",
    "'''"
   ]
  },
  {
   "cell_type": "code",
   "execution_count": 0,
   "metadata": {
    "colab": {
     "base_uri": "https://localhost:8080/",
     "height": 34
    },
    "colab_type": "code",
    "id": "6upDbW19_VTe",
    "outputId": "c56059c1-9c8a-4e3d-85b9-69142b8de3eb"
   },
   "outputs": [
    {
     "data": {
      "text/plain": [
       "'Is this a modern train?'"
      ]
     },
     "execution_count": 6,
     "metadata": {
      "tags": []
     },
     "output_type": "execute_result"
    }
   ],
   "source": [
    "open_question_json_train[\"questions\"][3][\"question\"] # fourth question"
   ]
  },
  {
   "cell_type": "markdown",
   "metadata": {
    "colab_type": "text",
    "id": "Kbsj8c8OBo-N"
   },
   "source": [
    "## Process the Questions and Answers"
   ]
  },
  {
   "cell_type": "code",
   "execution_count": 0,
   "metadata": {
    "colab": {},
    "colab_type": "code",
    "id": "IAVFLdPwEXSV"
   },
   "outputs": [],
   "source": [
    "# Preprocess openended_question_json file\n",
    "keys_to_remove = [\"data_subtype\", \"data_type\", \"info\", \"license\", \"task_type\"]\n",
    "for key in keys_to_remove:\n",
    "    open_question_json_val.pop(key, None)\n",
    "    open_question_json_train.pop(key, None)"
   ]
  },
  {
   "cell_type": "code",
   "execution_count": 0,
   "metadata": {
    "colab": {},
    "colab_type": "code",
    "id": "NQoTnv01H6AD"
   },
   "outputs": [],
   "source": [
    "import pandas as pd\n",
    "df_question_val = pd.DataFrame.from_dict(open_question_json_val[\"questions\"], orient = \"columns\")\n",
    "df_question_train = pd.DataFrame.from_dict(open_question_json_train[\"questions\"], orient = \"columns\")"
   ]
  },
  {
   "cell_type": "code",
   "execution_count": 0,
   "metadata": {
    "colab": {
     "base_uri": "https://localhost:8080/",
     "height": 221
    },
    "colab_type": "code",
    "id": "Q4Fsl8gaIN-7",
    "outputId": "6495a476-7c7b-4100-890d-d9e9b5f7bafc"
   },
   "outputs": [
    {
     "name": "stdout",
     "output_type": "stream",
     "text": [
      "   image_id                                question  question_id\n",
      "0    350623              What is the table made of?      3506232\n",
      "1    350623       Is the food napping on the table?      3506230\n",
      "2    350623  What has been upcycled to make lights?      3506231\n",
      "3      8647                Is this an Spanish town?        86472\n",
      "4      8647      Are there shadows on the sidewalk?        86470\n",
      "   image_id                                question  question_id\n",
      "0    487025           What shape is the bench seat?      4870250\n",
      "1    487025                      Is there a shadow?      4870251\n",
      "2    487025  Is this one bench or multiple benches?      4870252\n",
      "3     78077                 Is this a modern train?       780770\n",
      "4     78077  What color is the stripe on the train?       780771\n"
     ]
    }
   ],
   "source": [
    "print(df_question_val.head(5) )\n",
    "print(df_question_train.head(5) )"
   ]
  },
  {
   "cell_type": "code",
   "execution_count": 0,
   "metadata": {
    "colab": {
     "base_uri": "https://localhost:8080/",
     "height": 34
    },
    "colab_type": "code",
    "id": "csQ0yrt0IQ46",
    "outputId": "a0ad7efd-6628-423c-f539-fed8fd63aa79"
   },
   "outputs": [
    {
     "data": {
      "text/plain": [
       "'curved'"
      ]
     },
     "execution_count": 10,
     "metadata": {
      "tags": []
     },
     "output_type": "execute_result"
    }
   ],
   "source": [
    "annotation_json_train[\"annotations\"][0][\"multiple_choice_answer\"]"
   ]
  },
  {
   "cell_type": "code",
   "execution_count": 0,
   "metadata": {
    "colab": {},
    "colab_type": "code",
    "id": "GaYAcUAsJSZF"
   },
   "outputs": [],
   "source": [
    "#Remove keys from answers json file.\n",
    "keys_to_remove = [\"data_subtype\", \"data_type\", \"info\", \"license\"]\n",
    "for key in keys_to_remove:\n",
    "    annotation_json_val.pop(key, None)\n",
    "    annotation_json_train.pop(key, None)"
   ]
  },
  {
   "cell_type": "code",
   "execution_count": 0,
   "metadata": {
    "colab": {},
    "colab_type": "code",
    "id": "PFSgCAhlJmUy"
   },
   "outputs": [],
   "source": [
    "df_annotation_val = pd.DataFrame.from_dict(annotation_json_val[\"annotations\"], orient = \"columns\")\n",
    "df_annotation_train = pd.DataFrame.from_dict(annotation_json_train[\"annotations\"], orient = \"columns\")"
   ]
  },
  {
   "cell_type": "code",
   "execution_count": 0,
   "metadata": {
    "colab": {
     "base_uri": "https://localhost:8080/",
     "height": 2193
    },
    "colab_type": "code",
    "id": "DY6BdKR_gANe",
    "outputId": "9bd61b21-cbc2-4703-cf74-ab4fd0d74785"
   },
   "outputs": [
    {
     "name": "stdout",
     "output_type": "stream",
     "text": [
      "       answer_type  ...           question_type\n",
      "0            other  ...             what is the\n",
      "1           yes/no  ...                  is the\n",
      "2            other  ...                    what\n",
      "3           yes/no  ...              is this an\n",
      "4           yes/no  ...               are there\n",
      "5            other  ...          what is in the\n",
      "6           yes/no  ...                   is it\n",
      "7            other  ...                 what is\n",
      "8           number  ...                how many\n",
      "9           yes/no  ...                 is this\n",
      "10          yes/no  ...              is there a\n",
      "11          yes/no  ...           is the person\n",
      "12          yes/no  ...               is this a\n",
      "13           other  ...                    what\n",
      "14           other  ...       what color is the\n",
      "15           other  ...       what color is the\n",
      "16          yes/no  ...                  is the\n",
      "17           other  ...                     how\n",
      "18           other  ...             what is the\n",
      "19          yes/no  ...                      do\n",
      "20           other  ...                 what is\n",
      "21          yes/no  ...                  is the\n",
      "22          number  ...  how many people are in\n",
      "23           other  ...                     why\n",
      "24          number  ...                how many\n",
      "25          yes/no  ...                 are the\n",
      "26          number  ...                how many\n",
      "27           other  ...       none of the above\n",
      "28           other  ...                how many\n",
      "29          number  ...                how many\n",
      "...            ...  ...                     ...\n",
      "121482       other  ...                    what\n",
      "121483      yes/no  ...                 are the\n",
      "121484       other  ...                   which\n",
      "121485       other  ...           what sport is\n",
      "121486       other  ...                   which\n",
      "121487       other  ...                    what\n",
      "121488      number  ...                how many\n",
      "121489       other  ...      what color are the\n",
      "121490      number  ...                how many\n",
      "121491      yes/no  ...                does the\n",
      "121492       other  ...             what is the\n",
      "121493      yes/no  ...                 is this\n",
      "121494       other  ...       what color is the\n",
      "121495      yes/no  ...               is this a\n",
      "121496       other  ...       what color is the\n",
      "121497       other  ...            where is the\n",
      "121498      number  ...                how many\n",
      "121499      number  ...             what is the\n",
      "121500      number  ...                how many\n",
      "121501      number  ...                how many\n",
      "121502       other  ...             what is the\n",
      "121503       other  ...                 what is\n",
      "121504       other  ...                    what\n",
      "121505      yes/no  ...              is the man\n",
      "121506      yes/no  ...                     has\n",
      "121507       other  ...                 what is\n",
      "121508       other  ...            what kind of\n",
      "121509      number  ...               what time\n",
      "121510      yes/no  ...                does the\n",
      "121511      yes/no  ...                is there\n",
      "\n",
      "[121512 rows x 6 columns]\n",
      "       answer_type  ...        question_type\n",
      "0            other  ...                 what\n",
      "1           yes/no  ...           is there a\n",
      "2            other  ...              is this\n",
      "3           yes/no  ...            is this a\n",
      "4            other  ...    what color is the\n",
      "5            other  ...       what is on the\n",
      "6           yes/no  ...               is the\n",
      "7           yes/no  ...               is the\n",
      "8            other  ...    what color is the\n",
      "9           yes/no  ...            are these\n",
      "10           other  ...              what is\n",
      "11          yes/no  ...            is this a\n",
      "12          yes/no  ...               is the\n",
      "13           other  ...       what is in the\n",
      "14           other  ...         where is the\n",
      "15           other  ...   what color are the\n",
      "16           other  ...                 what\n",
      "17           other  ...                 what\n",
      "18           other  ...        where are the\n",
      "19           other  ...       what animal is\n",
      "20           other  ...    none of the above\n",
      "21           other  ...         what kind of\n",
      "22           other  ...          what is the\n",
      "23          yes/no  ...              is this\n",
      "24           other  ...                 what\n",
      "25          number  ...    none of the above\n",
      "26          yes/no  ...        are there any\n",
      "27           other  ...    what color is the\n",
      "28           other  ...   what color are the\n",
      "29           other  ...    what color is the\n",
      "...            ...  ...                  ...\n",
      "248319      yes/no  ...           is the man\n",
      "248320       other  ...      what is the man\n",
      "248321      number  ...  how many people are\n",
      "248322       other  ...    what color is the\n",
      "248323      yes/no  ...              are the\n",
      "248324       other  ...          what is the\n",
      "248325      yes/no  ...            is this a\n",
      "248326       other  ...         what kind of\n",
      "248327      yes/no  ...        are there any\n",
      "248328      yes/no  ...               is the\n",
      "248329       other  ...         what kind of\n",
      "248330       other  ...          what is the\n",
      "248331      number  ...                  how\n",
      "248332      yes/no  ...               is the\n",
      "248333      yes/no  ...             is there\n",
      "248334      yes/no  ...               is the\n",
      "248335      yes/no  ...               is the\n",
      "248336       other  ...    what color is the\n",
      "248337      number  ...             how many\n",
      "248338       other  ...             what are\n",
      "248339       other  ...          what is the\n",
      "248340       other  ...    what color is the\n",
      "248341       other  ...    what color is the\n",
      "248342       other  ...                 what\n",
      "248343      number  ...             how many\n",
      "248344       other  ...       what is on the\n",
      "248345      yes/no  ...                   is\n",
      "248346      yes/no  ...            is this a\n",
      "248347       other  ...                which\n",
      "248348       other  ...         where is the\n",
      "\n",
      "[248349 rows x 6 columns]\n"
     ]
    }
   ],
   "source": [
    "print(df_annotation_val)\n",
    "print(df_annotation_train)"
   ]
  },
  {
   "cell_type": "code",
   "execution_count": 0,
   "metadata": {
    "colab": {
     "base_uri": "https://localhost:8080/",
     "height": 221
    },
    "colab_type": "code",
    "id": "Wdkti4ILJwMx",
    "outputId": "cff62230-65df-49bb-c353-14f9ba47cd1f"
   },
   "outputs": [
    {
     "name": "stdout",
     "output_type": "stream",
     "text": [
      "  multiple_choice_answer  question_id\n",
      "0                   wood      3506232\n",
      "1                     no      3506230\n",
      "2                kettles      3506231\n",
      "3                     no        86472\n",
      "4                    yes        86470\n",
      "  multiple_choice_answer  question_id\n",
      "0                 curved      4870250\n",
      "1                    yes      4870251\n",
      "2                      1      4870252\n",
      "3                     no       780770\n",
      "4                  white       780771\n"
     ]
    }
   ],
   "source": [
    "df_annotation_val = df_annotation_val.drop(columns = [\"answer_type\", \"answers\", \"image_id\", \"question_type\"])\n",
    "df_annotation_train = df_annotation_train.drop(columns = [\"answer_type\", \"answers\", \"image_id\", \"question_type\"])\n",
    "print( df_annotation_val.head(5) )\n",
    "print( df_annotation_train.head(5) )"
   ]
  },
  {
   "cell_type": "code",
   "execution_count": 0,
   "metadata": {
    "colab": {},
    "colab_type": "code",
    "id": "PPrDk2pHKmVs"
   },
   "outputs": [],
   "source": [
    "data_val_qa = pd.merge(df_question_val, df_annotation_val, how = \"outer\", on = \"question_id\")\n",
    "data_train_qa = pd.merge(df_question_train, df_annotation_train, how = \"outer\", on = \"question_id\")"
   ]
  },
  {
   "cell_type": "code",
   "execution_count": 0,
   "metadata": {
    "colab": {},
    "colab_type": "code",
    "id": "P_VEtd7iMrVb"
   },
   "outputs": [],
   "source": [
    "data_val_qa = data_val_qa.drop( columns = [\"question_id\"])\n",
    "data_train_qa = data_train_qa.drop( columns = [\"question_id\"])"
   ]
  },
  {
   "cell_type": "code",
   "execution_count": 0,
   "metadata": {
    "colab": {
     "base_uri": "https://localhost:8080/",
     "height": 221
    },
    "colab_type": "code",
    "id": "5cqw7z4HM3zC",
    "outputId": "2f949bf1-9215-417a-bffd-095481b6b1d3"
   },
   "outputs": [
    {
     "name": "stdout",
     "output_type": "stream",
     "text": [
      "   image_id                                question multiple_choice_answer\n",
      "0    350623              What is the table made of?                   wood\n",
      "1    350623       Is the food napping on the table?                     no\n",
      "2    350623  What has been upcycled to make lights?                kettles\n",
      "3      8647                Is this an Spanish town?                     no\n",
      "4      8647      Are there shadows on the sidewalk?                    yes\n",
      "   image_id                                question multiple_choice_answer\n",
      "0    487025           What shape is the bench seat?                 curved\n",
      "1    487025                      Is there a shadow?                    yes\n",
      "2    487025  Is this one bench or multiple benches?                      1\n",
      "3     78077                 Is this a modern train?                     no\n",
      "4     78077  What color is the stripe on the train?                  white\n"
     ]
    }
   ],
   "source": [
    "print( data_val_qa.head() )\n",
    "print(data_train_qa.head() )"
   ]
  },
  {
   "cell_type": "code",
   "execution_count": 0,
   "metadata": {
    "colab": {
     "base_uri": "https://localhost:8080/",
     "height": 153
    },
    "colab_type": "code",
    "id": "Oi7OkLDQL-Go",
    "outputId": "6e28712e-3b5c-405e-c16b-ffe2f0c4c8b0"
   },
   "outputs": [
    {
     "name": "stdout",
     "output_type": "stream",
     "text": [
      "image_id                  121512\n",
      "question                  121512\n",
      "multiple_choice_answer    121512\n",
      "dtype: int64\n",
      "image_id                  248349\n",
      "question                  248349\n",
      "multiple_choice_answer    248349\n",
      "dtype: int64\n"
     ]
    }
   ],
   "source": [
    "print( data_val_qa.count() )\n",
    "print( data_train_qa.count() )"
   ]
  },
  {
   "cell_type": "code",
   "execution_count": 0,
   "metadata": {
    "colab": {},
    "colab_type": "code",
    "id": "0ANQr53nGr_S"
   },
   "outputs": [],
   "source": [
    "import pickle\n",
    "\n",
    "file = open(\"Training Data QA.pickle\", \"rb\")\n",
    "data_train_qa = pickle.load(file)\n",
    "file.close()\n",
    "\n",
    "file = open(\"Validation Data QA.pickle\", \"rb\")\n",
    "data_val_qa = pickle.load(file)\n",
    "file.close()\n"
   ]
  },
  {
   "cell_type": "code",
   "execution_count": 0,
   "metadata": {
    "colab": {},
    "colab_type": "code",
    "id": "MsXkXwM1F3-L"
   },
   "outputs": [],
   "source": [
    "# Before saving the file, lets pre-process the questions.\n",
    "# Find all the punctuations.\n",
    "import re\n",
    "\n",
    "punctuation = []\n",
    "length = int(len(data_train_qa))\n",
    "for i in range(length):\n",
    "    punctuation.append(re.findall(r\"[^a-zA-Z0-9 ]\", data_train_qa[\"question\"][i]))\n",
    "\n"
   ]
  },
  {
   "cell_type": "code",
   "execution_count": 9,
   "metadata": {
    "colab": {
     "base_uri": "https://localhost:8080/",
     "height": 34
    },
    "colab_type": "code",
    "id": "54kKJnY3IwjB",
    "outputId": "e5369a0e-211c-43e6-dd7c-798bb69f38f8"
   },
   "outputs": [
    {
     "name": "stdout",
     "output_type": "stream",
     "text": [
      "{',', \"'\", '?'}\n"
     ]
    }
   ],
   "source": [
    "# Get all unique punctuation from Top 200 questions\n",
    "myset = set()\n",
    "for i in range(200):\n",
    "    for j in range(len(punctuation[i])):\n",
    "        myset.add(punctuation[i][j])\n",
    "print(myset)\n",
    "  "
   ]
  },
  {
   "cell_type": "markdown",
   "metadata": {
    "colab_type": "text",
    "id": "w2BYE58NJNYi"
   },
   "source": [
    "So, the punctuation we are going to foucs is on \" ' '\", while for the rest we are going to simply remove it."
   ]
  },
  {
   "cell_type": "code",
   "execution_count": 28,
   "metadata": {
    "colab": {
     "base_uri": "https://localhost:8080/",
     "height": 187
    },
    "colab_type": "code",
    "id": "6_7sCfElILp5",
    "outputId": "16292763-b363-43df-82c2-c9bc5f2b3577"
   },
   "outputs": [
    {
     "data": {
      "text/plain": [
       "[[19, \"What animal is on the man's lap?\"],\n",
       " [20, \"What's in the man's right hand?\"],\n",
       " [33, \"What color is this person's shirt?\"],\n",
       " [35, \"What color is the man's pants?\"],\n",
       " [36, \"Why is the woman's head blurry?\"],\n",
       " [40, \"What color is the man's shirt?\"],\n",
       " [54, \"What is the theme of the kites' designs?\"],\n",
       " [59, \"Can you see the dog's teeth?\"],\n",
       " [65, \"What color is the man's shirt?\"],\n",
       " [78, \"What is on the man's head?\"]]"
      ]
     },
     "execution_count": 28,
     "metadata": {
      "tags": []
     },
     "output_type": "execute_result"
    }
   ],
   "source": [
    "\n",
    "question_punc = []\n",
    "length = int(len(data_train_qa))\n",
    "for i in range(length):  \n",
    "    punctuation = re.findall(r\"[']\", data_train_qa[\"question\"][i])\n",
    "    if punctuation:\n",
    "        question_punc.append([i, data_train_qa[\"question\"][i]])\n",
    "    \n",
    "question_punc[0:10]"
   ]
  },
  {
   "cell_type": "code",
   "execution_count": 0,
   "metadata": {
    "colab": {},
    "colab_type": "code",
    "id": "9Zgnc1KASbZK"
   },
   "outputs": [],
   "source": [
    "# what's -> What is, we are going to use wikipedia data.\n",
    "import requests\n",
    "from bs4 import BeautifulSoup\n",
    "\n",
    "website_url = requests.get(\"https://en.wikipedia.org/wiki/Wikipedia:List_of_English_contractions\").text\n",
    "soup = BeautifulSoup(website_url, 'lxml')\n",
    "\n",
    "# we need \"wikitable sortable\" file from the html script.\n",
    "table = soup.find('table', {'class' : 'wikitable sortable'})\n",
    "\n",
    "#columns = soup.find_all('td')\n",
    "contraction_list = []\n",
    "meaning_list = []\n",
    "for row in table.find_all('tr')[1:]:  # iterate over the rows, starting from \n",
    "                                      # the second (first one is the header row)\n",
    "    contraction = row.find_all('td')[0]  #  the Symbol col is the first <td> in every row \n",
    "    meaning = row.find_all('td')[1]  #  the Symbol col is the first <td> in every row\n",
    "        \n",
    "    contraction_list.append(contraction.text)\n",
    "    meaning_list.append(meaning.text)\n",
    "\n",
    "# Preprocess the words\n",
    "\n",
    "#splitword = []\n",
    "#print(len(contraction_list))\n",
    "#print(len(meaning_list))\n",
    "for word in contraction_list:\n",
    "  #print(word)\n",
    "  if (' ' in word):\n",
    "    position_to_add = contraction_list.index(word)\n",
    "    meaning_word = meaning_list[position_to_add]\n",
    "    \n",
    "    word_to_process = re.sub(r'[(),]', \"\", word)\n",
    "    splitword = word_to_process.split()\n",
    "    length_split_word = len(splitword)\n",
    "    #print(splitword)\n",
    "    \n",
    "    contraction_list.remove(word)\n",
    "    meaning_list.pop(position_to_add)\n",
    "    \n",
    "    for i in range(len(splitword)):\n",
    "        contraction_list.insert((position_to_add + i), splitword[i] )\n",
    "        meaning_list.insert((position_to_add + i), meaning_word)\n",
    "    break\n",
    "    #print(splitword)\n",
    "\n",
    "# pop out last two element\n",
    "del contraction_list[-2:]\n",
    "del meaning_list[-2:]\n",
    "\n",
    "# Now, our contraction list is well defined, we need to process meaning list.\n",
    "\n",
    "meaningfull_list = []\n",
    "def process_word(word):\n",
    "  \n",
    "    word = re.sub(r\"[0-9]\", \"\", word)\n",
    "    word = re.sub(r\"\\n\", \"\", word)\n",
    "    word = word.replace('[','').replace(']','')\n",
    "    word = word.replace(' (colloquial)', '')\n",
    "    word = word.replace(' (archaic)', '')\n",
    "    meaningfull_list.append(word)\n",
    "  \n",
    "    return meaningfull_list\n",
    "#[re.sub(r'[0-9]', '', word) if ('[]' in word) else x for x in meaning_list]\n",
    "\n",
    "for word in meaning_list:\n",
    "    meaningfull_list = process_word(word)\n",
    "    \n",
    "# Now that we have process the words, lets split these too!\n",
    "\n",
    "for word in meaningfull_list:\n",
    "    if (' / ' in word or \", \" in word ):\n",
    "        position_to_split = meaningfull_list.index(word)\n",
    "\n",
    "        word_to_process = re.sub(r' / ', \",\", word)\n",
    "        splitword = word_to_process.split(',')\n",
    "        length_split_word = len(splitword)\n",
    "\n",
    "        meaningfull_list.remove(word)\n",
    "        meaningfull_list.insert((position_to_split ), splitword[0] ) # For simplicity lets add only 1st word.\n",
    "\n",
    "# FOr \"What are/whate were\" -> to \"what are\"\n",
    "meaningfull_list_2 = []\n",
    "for word in meaningfull_list:\n",
    "  \n",
    "  for alpha in word:\n",
    "    if(\"/\" in alpha):\n",
    "        word = word.split(\"/\")[0]\n",
    "    meaningfull_list_2.append(word)  \n",
    "    \n",
    "another_list = []\n",
    "for words in meaningfull_list_2:\n",
    "    split_word = words.split(\" \")\n",
    "  \n",
    "    if(\"has\" in split_word):\n",
    "        split_word = [word.replace(\"has\", \"is\") for word in split_word]   \n",
    "    another_list.append(\" \".join(split_word))\n",
    "    \n",
    "#print(len(another_list) )\n",
    "#print(len(meaningfull_list_2) )\n",
    "dictionary = {k: v for k,v in zip(contraction_list, another_list)}\n",
    "del dictionary['']\n",
    "# Step by step output is available on : https://github.com/MohammadWasil/Quora-Insincere-Question-Classification/blob/master/Quora_Insincere_Questions.ipynb\n"
   ]
  },
  {
   "cell_type": "code",
   "execution_count": 111,
   "metadata": {
    "colab": {
     "base_uri": "https://localhost:8080/",
     "height": 2244
    },
    "colab_type": "code",
    "id": "2C7URFigWT_J",
    "outputId": "85990532-d645-4b9b-bb93-deb1b0ea1635"
   },
   "outputs": [
    {
     "data": {
      "text/plain": [
       "{\"'cause\": 'because',\n",
       " \"'s\": 'is',\n",
       " \"'tis\": 'it is',\n",
       " \"'twas\": 'it was',\n",
       " \"Ha'ta\": 'even',\n",
       " \"I'd\": 'I had',\n",
       " \"I'll\": 'I shall',\n",
       " \"I'm\": 'I am',\n",
       " \"I'm'a\": 'I am about to',\n",
       " \"I'm'o\": 'I am going to',\n",
       " \"I've\": 'I have',\n",
       " \"S'e\": 'oh yeah',\n",
       " \"ain't\": 'am not',\n",
       " \"aren't\": 'are not',\n",
       " \"cain't\": 'cannot',\n",
       " \"can't\": 'cannot',\n",
       " \"could've\": 'could have',\n",
       " \"couldn't\": 'could not',\n",
       " \"couldn't've\": 'could not have',\n",
       " \"daren't\": 'dare not',\n",
       " \"daresn't\": 'dare not',\n",
       " \"dasn't\": 'dare not',\n",
       " \"didn't\": 'did not',\n",
       " \"doesn't\": 'does not',\n",
       " \"don't\": 'do not',\n",
       " \"e'er\": 'ever',\n",
       " \"everyone's\": 'everyone is',\n",
       " 'finna': 'fixing to',\n",
       " 'gimme': 'give me',\n",
       " \"giv'n\": 'given',\n",
       " \"gon't\": 'go not',\n",
       " 'gonna': 'going to',\n",
       " 'gotta': 'got to',\n",
       " \"hadn't\": 'had not',\n",
       " \"hasn't\": 'is not',\n",
       " \"haven't\": 'have not',\n",
       " \"he'd\": 'he had',\n",
       " \"he'll\": 'he shall',\n",
       " \"he's\": 'he is',\n",
       " \"he've\": 'he have',\n",
       " \"how'd\": 'how did',\n",
       " \"how'll\": 'how will',\n",
       " \"how're\": 'how are',\n",
       " \"how's\": 'how is',\n",
       " 'howdy': 'how do you do',\n",
       " \"isn't\": 'is not',\n",
       " \"it'd\": 'it would',\n",
       " \"it'll\": 'it shall',\n",
       " \"it's\": 'it is',\n",
       " \"let's\": 'let us',\n",
       " \"ma'am\": 'madam',\n",
       " \"may've\": 'may have',\n",
       " \"mayn't\": 'may not',\n",
       " \"might've\": 'might have',\n",
       " \"mightn't\": 'might not',\n",
       " \"must've\": 'must have',\n",
       " \"mustn't\": 'must not',\n",
       " \"mustn't've\": 'must not have',\n",
       " \"ne'er\": 'never',\n",
       " \"needn't\": 'need not',\n",
       " \"o'clock\": 'of the clock',\n",
       " \"o'er\": 'over',\n",
       " \"ol'\": 'old',\n",
       " \"oughtn't\": 'ought not',\n",
       " 'rarely': 'cannot',\n",
       " \"shalln't\": 'shall not',\n",
       " \"shan't\": 'shall not',\n",
       " \"she'd\": 'she had',\n",
       " \"she'll\": 'she shall',\n",
       " \"she's\": 'she is',\n",
       " \"should've\": 'should have',\n",
       " \"shouldn't\": 'should not',\n",
       " \"shouldn't've\": 'should not have',\n",
       " \"so're\": 'so are',\n",
       " \"somebody's\": 'somebody is',\n",
       " \"someone's\": 'someone is',\n",
       " \"something's\": 'something is',\n",
       " \"that'd\": 'that would',\n",
       " \"that'll\": 'that shall',\n",
       " \"that're\": 'that are',\n",
       " \"that's\": 'that is',\n",
       " \"there'd\": 'there had',\n",
       " \"there'll\": 'there shall',\n",
       " \"there're\": 'there are',\n",
       " \"there's\": 'there is',\n",
       " \"these're\": 'these are',\n",
       " \"they'd\": 'they had',\n",
       " \"they'll\": 'they shall',\n",
       " \"they're\": 'they are',\n",
       " \"they've\": 'they have',\n",
       " \"this's\": 'this is',\n",
       " \"those're\": 'those are',\n",
       " \"to've\": 'to have',\n",
       " \"wasn't\": 'was not',\n",
       " \"we'd\": 'we had',\n",
       " \"we'd've\": 'we would have',\n",
       " \"we'll\": 'we will',\n",
       " \"we're\": 'we are',\n",
       " \"we've\": 'we have',\n",
       " \"weren't\": 'were not',\n",
       " \"what'd\": 'what did',\n",
       " \"what'll\": 'what shall',\n",
       " \"what're\": 'what are',\n",
       " \"what's\": 'what is',\n",
       " \"what've\": 'what have',\n",
       " \"when's\": 'when is',\n",
       " \"where'd\": 'where did',\n",
       " \"where're\": 'where are',\n",
       " \"where's\": 'where is',\n",
       " \"where've\": 'where have',\n",
       " \"which's\": 'which is',\n",
       " \"who'd\": 'who would',\n",
       " \"who'd've\": 'who would have',\n",
       " \"who'll\": 'who shall',\n",
       " \"who're\": 'who are',\n",
       " \"who's\": 'who is',\n",
       " \"who've\": 'who have',\n",
       " \"whom'st\": 'whom hast',\n",
       " \"whom'st'd've\": 'whom hast had have',\n",
       " \"why'd\": 'why did',\n",
       " \"why're\": 'why are',\n",
       " \"why's\": 'why is',\n",
       " \"won't\": 'will not',\n",
       " \"would've\": 'would have',\n",
       " \"wouldn't\": 'would not',\n",
       " \"y'all\": 'you all',\n",
       " \"y'all'd've\": 'you all would have',\n",
       " \"you'd\": 'you had',\n",
       " \"you'll\": 'you shall',\n",
       " \"you're\": 'you are',\n",
       " \"you've\": 'you have'}"
      ]
     },
     "execution_count": 111,
     "metadata": {
      "tags": []
     },
     "output_type": "execute_result"
    }
   ],
   "source": [
    "dictionary "
   ]
  },
  {
   "cell_type": "code",
   "execution_count": 23,
   "metadata": {
    "colab": {
     "base_uri": "https://localhost:8080/",
     "height": 34
    },
    "colab_type": "code",
    "id": "sTswnTCAPscn",
    "outputId": "2c43929f-e2d5-4a5c-ec01-61078c464ebf"
   },
   "outputs": [
    {
     "name": "stdout",
     "output_type": "stream",
     "text": [
      "{'2', '4', '8', '9', '3', '7', '1', '0', '6', '5'}\n"
     ]
    }
   ],
   "source": [
    "# We have numbers here, we are going to convert it to english names.\n",
    "numbers = []\n",
    "length = int(len(data_train_qa))\n",
    "for i in range(length):\n",
    "    no = re.findall(r\"[0-9]\", data_train_qa[\"question\"][i])\n",
    "    if no:\n",
    "        numbers.append(no)\n",
    "\n",
    "# Get all unique punctuation from Top 200 questions\n",
    "mysetnumber = set()\n",
    "for i in range(600):\n",
    "    for j in range(len(numbers[i])):\n",
    "        mysetnumber.add(numbers[i][j])\n",
    "print(mysetnumber)\n",
    "  "
   ]
  },
  {
   "cell_type": "code",
   "execution_count": 0,
   "metadata": {
    "colab": {},
    "colab_type": "code",
    "id": "KAYS4uKCwRkp"
   },
   "outputs": [],
   "source": [
    "number_dictionary = {\"1\" : \"one\", \"2\" : \"two\", \"3\": \"three\", \"4\" : \"four\", \"5\": \"five\", \"6\": \"six\", \"7\" : \"seven\", \"8\": \"eight\", \"9\":\"nine\", \"0\":\"zero\"}\n"
   ]
  },
  {
   "cell_type": "code",
   "execution_count": 0,
   "metadata": {
    "colab": {},
    "colab_type": "code",
    "id": "ntH4NKsjxDOB"
   },
   "outputs": [],
   "source": [
    "# Review the questions:\n",
    "def mappingWords(questions,dictionary):\n",
    "    return \" \".join([dictionary.get(w,w) for w in questions.split()])\n",
    "\n",
    "def mappingNumber(questions, number_dictionary):\n",
    "    return \" \".join([number_dictionary.get(w,w) for w in questions.split()])\n",
    "\n",
    "def review_question(questions):\n",
    "    questions = questions.lower()\n",
    "    questions = mappingWords(questions, dictionary)\n",
    "    questions = mappingNumber(questions, number_dictionary)\n",
    "    questions = re.sub(r\"[^A-Za-z0-9 ]\", \"\", questions)\n",
    "    return questions\n",
    "\n",
    "train_question_list = []\n",
    "validation_question_list = []\n",
    "for i in range(len(data_train_qa[\"question\"])):\n",
    "    train_question_list.append(review_question(data_train_qa[\"question\"][i]))\n",
    "    \n",
    "for i in range(len(data_val_qa[\"question\"])):\n",
    "    validation_question_list.append(review_question(data_val_qa[\"question\"][i]))\n"
   ]
  },
  {
   "cell_type": "code",
   "execution_count": 0,
   "metadata": {
    "colab": {},
    "colab_type": "code",
    "id": "fI-WsSv323zY"
   },
   "outputs": [],
   "source": [
    "import pandas as pd\n",
    "df_train_questions = pd.DataFrame(train_question_list, columns = [\"questions\"])\n",
    "df_val_questions = pd.DataFrame(validation_question_list, columns = [\"questions\"])"
   ]
  },
  {
   "cell_type": "code",
   "execution_count": 0,
   "metadata": {
    "colab": {},
    "colab_type": "code",
    "id": "iYHKQ3Tz3llP"
   },
   "outputs": [],
   "source": [
    "validation = pd.concat([data_val_qa, df_val_questions], axis = 1)\n",
    "training   = pd.concat([data_train_qa, df_train_questions], axis = 1)"
   ]
  },
  {
   "cell_type": "code",
   "execution_count": 0,
   "metadata": {
    "colab": {},
    "colab_type": "code",
    "id": "yWtv4dfI6GAb"
   },
   "outputs": [],
   "source": [
    "data_val_qa = validation.drop( columns = [\"question\"])\n",
    "data_train_qa = training.drop( columns = [\"question\"])"
   ]
  },
  {
   "cell_type": "code",
   "execution_count": 0,
   "metadata": {
    "colab": {},
    "colab_type": "code",
    "id": "iBVI0Dmf6jhl"
   },
   "outputs": [],
   "source": [
    "data_train_qa = data_train_qa.reindex(columns = [\"image_id\", \"questions\", \"multiple_choice_answer\"])\n",
    "data_val_qa = data_val_qa.reindex(columns = [\"image_id\", \"questions\", \"multiple_choice_answer\"])"
   ]
  },
  {
   "cell_type": "code",
   "execution_count": 133,
   "metadata": {
    "colab": {
     "base_uri": "https://localhost:8080/",
     "height": 204
    },
    "colab_type": "code",
    "id": "1DtX6IoU7VGk",
    "outputId": "a8972cb3-06b6-4bbd-fb17-b8007e8a83c2"
   },
   "outputs": [
    {
     "data": {
      "text/html": [
       "<div>\n",
       "<style scoped>\n",
       "    .dataframe tbody tr th:only-of-type {\n",
       "        vertical-align: middle;\n",
       "    }\n",
       "\n",
       "    .dataframe tbody tr th {\n",
       "        vertical-align: top;\n",
       "    }\n",
       "\n",
       "    .dataframe thead th {\n",
       "        text-align: right;\n",
       "    }\n",
       "</style>\n",
       "<table border=\"1\" class=\"dataframe\">\n",
       "  <thead>\n",
       "    <tr style=\"text-align: right;\">\n",
       "      <th></th>\n",
       "      <th>image_id</th>\n",
       "      <th>questions</th>\n",
       "      <th>multiple_choice_answer</th>\n",
       "    </tr>\n",
       "  </thead>\n",
       "  <tbody>\n",
       "    <tr>\n",
       "      <th>0</th>\n",
       "      <td>350623</td>\n",
       "      <td>what is the table made of</td>\n",
       "      <td>wood</td>\n",
       "    </tr>\n",
       "    <tr>\n",
       "      <th>1</th>\n",
       "      <td>350623</td>\n",
       "      <td>is the food napping on the table</td>\n",
       "      <td>no</td>\n",
       "    </tr>\n",
       "    <tr>\n",
       "      <th>2</th>\n",
       "      <td>350623</td>\n",
       "      <td>what has been upcycled to make lights</td>\n",
       "      <td>kettles</td>\n",
       "    </tr>\n",
       "    <tr>\n",
       "      <th>3</th>\n",
       "      <td>8647</td>\n",
       "      <td>is this an spanish town</td>\n",
       "      <td>no</td>\n",
       "    </tr>\n",
       "    <tr>\n",
       "      <th>4</th>\n",
       "      <td>8647</td>\n",
       "      <td>are there shadows on the sidewalk</td>\n",
       "      <td>yes</td>\n",
       "    </tr>\n",
       "  </tbody>\n",
       "</table>\n",
       "</div>"
      ],
      "text/plain": [
       "   image_id                              questions multiple_choice_answer\n",
       "0    350623              what is the table made of                   wood\n",
       "1    350623       is the food napping on the table                     no\n",
       "2    350623  what has been upcycled to make lights                kettles\n",
       "3      8647                is this an spanish town                     no\n",
       "4      8647      are there shadows on the sidewalk                    yes"
      ]
     },
     "execution_count": 133,
     "metadata": {
      "tags": []
     },
     "output_type": "execute_result"
    }
   ],
   "source": [
    "data_train_qa.head(5)\n",
    "data_val_qa.head(5)"
   ]
  },
  {
   "cell_type": "code",
   "execution_count": 0,
   "metadata": {
    "colab": {},
    "colab_type": "code",
    "id": "zquh0H7aMU0o"
   },
   "outputs": [],
   "source": [
    "import pickle\n",
    "\n",
    "open_pickle_val = open('Validation Data QA.pickle', 'wb')\n",
    "pickle.dump(data_val_qa, open_pickle_val)\n",
    "open_pickle_val.close()\n",
    "\n",
    "open_pickle_train = open('Training Data QA.pickle', 'wb')\n",
    "pickle.dump(data_train_qa, open_pickle_train)\n",
    "open_pickle_train.close()"
   ]
  },
  {
   "cell_type": "code",
   "execution_count": 135,
   "metadata": {
    "colab": {
     "base_uri": "https://localhost:8080/",
     "height": 34
    },
    "colab_type": "code",
    "id": "Ziqw9jpqibVi",
    "outputId": "3edc86fa-6631-42fb-ded5-6aa530f47d32"
   },
   "outputs": [
    {
     "name": "stdout",
     "output_type": "stream",
     "text": [
      "/content\n"
     ]
    }
   ],
   "source": [
    "#https://drive.google.com/open?id=1NVfn_L9YoGJloB_rzKh06YCqQNe6DfJj\n",
    "%cd /content/\n",
    "!pip install -U -q PyDrive\n",
    "\n",
    "from pydrive.auth import GoogleAuth\n",
    "from pydrive.drive import GoogleDrive\n",
    "from google.colab import auth\n",
    "from oauth2client.client import GoogleCredentials\n",
    "\n",
    "# 1. Authenticate and create the PyDrive client.\n",
    "auth.authenticate_user()\n",
    "gauth = GoogleAuth()\n",
    "gauth.credentials = GoogleCredentials.get_application_default()\n",
    "drive = GoogleDrive(gauth)\n"
   ]
  },
  {
   "cell_type": "code",
   "execution_count": 136,
   "metadata": {
    "colab": {
     "base_uri": "https://localhost:8080/",
     "height": 68
    },
    "colab_type": "code",
    "id": "SXopnWmKigES",
    "outputId": "1b45822c-0d95-486b-f20c-6c1a768c9063"
   },
   "outputs": [
    {
     "name": "stdout",
     "output_type": "stream",
     "text": [
      "/content\n",
      "Uploaded file with ID 1qmDX_URx9rKqjBZczX0hINk5uA4kI9SA\n",
      "Uploaded file with ID 1vBVqBh-caYYat7ZXBleJWHGV0al1I4nJ\n"
     ]
    }
   ],
   "source": [
    "# Upload it on the drive.\n",
    "%cd /content\n",
    "uploaded = drive.CreateFile({'title': 'Training Data QA.pickle'})\n",
    "uploaded.SetContentFile('Training Data QA.pickle')\n",
    "uploaded.Upload()\n",
    "print('Uploaded file with ID {}'.format(uploaded.get('id')))\n",
    "\n",
    "uploaded = drive.CreateFile({'title': 'Validation Data QA.pickle'})\n",
    "uploaded.SetContentFile('Validation Data QA.pickle')\n",
    "uploaded.Upload()\n",
    "print('Uploaded file with ID {}'.format(uploaded.get('id')))"
   ]
  },
  {
   "cell_type": "markdown",
   "metadata": {
    "colab_type": "text",
    "id": "Co2CvJSMB5on"
   },
   "source": [
    "### COCO image dataset"
   ]
  },
  {
   "cell_type": "markdown",
   "metadata": {
    "colab_type": "text",
    "id": "LN1M7UC9fX0O"
   },
   "source": [
    "VGG16 trained images, which have been used in Visual Qa datasets. Since we are going to use VGG16 architecture, so we wont be training all the images, instead we will be using the image feature matrix from stanford, which have been already trained on VGG16 architecture. All these images are present in the training and validation data."
   ]
  },
  {
   "cell_type": "code",
   "execution_count": 0,
   "metadata": {
    "colab": {
     "base_uri": "https://localhost:8080/",
     "height": 272
    },
    "colab_type": "code",
    "id": "LSpaWJx31RbX",
    "outputId": "25e14b89-f86b-4c7f-cb39-1c75addae014"
   },
   "outputs": [
    {
     "name": "stdout",
     "output_type": "stream",
     "text": [
      "--2019-06-15 12:21:01--  http://cs.stanford.edu/people/karpathy/deepimagesent/coco.zip\n",
      "Resolving cs.stanford.edu (cs.stanford.edu)... 171.64.64.64\n",
      "Connecting to cs.stanford.edu (cs.stanford.edu)|171.64.64.64|:80... connected.\n",
      "HTTP request sent, awaiting response... 301 Moved Permanently\n",
      "Location: https://cs.stanford.edu/people/karpathy/deepimagesent/coco.zip [following]\n",
      "--2019-06-15 12:21:02--  https://cs.stanford.edu/people/karpathy/deepimagesent/coco.zip\n",
      "Connecting to cs.stanford.edu (cs.stanford.edu)|171.64.64.64|:443... connected.\n",
      "HTTP request sent, awaiting response... 200 OK\n",
      "Length: 764830639 (729M) [application/zip]\n",
      "Saving to: ‘coco.zip’\n",
      "\n",
      "coco.zip            100%[===================>] 729.40M  16.5MB/s    in 50s     \n",
      "\n",
      "2019-06-15 12:21:52 (14.6 MB/s) - ‘coco.zip’ saved [764830639/764830639]\n",
      "\n"
     ]
    }
   ],
   "source": [
    "!wget http://cs.stanford.edu/people/karpathy/deepimagesent/coco.zip"
   ]
  },
  {
   "cell_type": "code",
   "execution_count": 0,
   "metadata": {
    "colab": {
     "base_uri": "https://localhost:8080/",
     "height": 85
    },
    "colab_type": "code",
    "id": "WmP2bSbMiEc0",
    "outputId": "e25614d0-2b87-4414-972b-0c3f538b5790"
   },
   "outputs": [
    {
     "name": "stdout",
     "output_type": "stream",
     "text": [
      "Archive:  coco.zip\n",
      "  inflating: coco/dataset.json       \n",
      "  inflating: coco/readme.txt         \n",
      "  inflating: coco/vgg_feats.mat      \n"
     ]
    }
   ],
   "source": [
    "!unzip coco.zip"
   ]
  },
  {
   "cell_type": "code",
   "execution_count": 0,
   "metadata": {
    "colab": {
     "base_uri": "https://localhost:8080/",
     "height": 34
    },
    "colab_type": "code",
    "id": "HidDfGjlstqn",
    "outputId": "4f5da553-a74b-4d73-c1f0-c362ecc503b8"
   },
   "outputs": [
    {
     "name": "stdout",
     "output_type": "stream",
     "text": [
      "/content/coco\n"
     ]
    }
   ],
   "source": [
    "%cd /content/coco\n",
    "import json\n",
    "\n",
    "with open('dataset.json') as f:\n",
    "    data = json.load(f)"
   ]
  },
  {
   "cell_type": "code",
   "execution_count": 0,
   "metadata": {
    "colab": {
     "base_uri": "https://localhost:8080/",
     "height": 34
    },
    "colab_type": "code",
    "id": "JM9j0it0kl0y",
    "outputId": "a5fe7c8c-51b3-4c8d-e4b6-ac1ea2e585ef"
   },
   "outputs": [
    {
     "data": {
      "text/plain": [
       "123287"
      ]
     },
     "execution_count": 27,
     "metadata": {
      "tags": []
     },
     "output_type": "execute_result"
    }
   ],
   "source": [
    "len(data[\"images\"])   # This number of images is equal to the number of images in training and validation data."
   ]
  },
  {
   "cell_type": "code",
   "execution_count": null,
   "metadata": {},
   "outputs": [],
   "source": [
    "data\n",
    "'''\n",
    "The output looks something like this:\n",
    "{'dataset': 'coco',\n",
    " 'images': [{'cocoid': 391895,\n",
    "   'filename': 'COCO_val2014_000000391895.jpg',\n",
    "   'filepath': 'val2014',\n",
    "   'imgid': 0,\n",
    "   'sentences': [{'imgid': 0,\n",
    "     'raw': 'A man with a red helmet on a small moped on a dirt road. ',\n",
    "     'sentid': 770337,\n",
    "     'tokens': ['a',\n",
    "      'man',\n",
    "      'with',\n",
    "      'a',\n",
    "      'red',\n",
    "      'helmet',\n",
    "      'on',\n",
    "      'a',\n",
    "      'small',\n",
    "      'moped',\n",
    "      'on',\n",
    "      'a',\n",
    "      'dirt',\n",
    "      'road']},\n",
    "    {'imgid': 0,\n",
    "     'raw': 'Man riding a motor bike on a dirt road on the countryside.',\n",
    "     'sentid': 771687,\n",
    "     'tokens': ['man',\n",
    "      'riding',\n",
    "      'a',\n",
    "      'motor',\n",
    "      'bike',\n",
    "      'on',\n",
    "      'a',\n",
    "      'dirt',\n",
    "      'road',\n",
    "      'on',\n",
    "      'the',\n",
    "      'countryside']},\n",
    "    {'imgid': 0,\n",
    "     'raw': 'A man riding on the back of a motorcycle.',\n",
    "     'sentid': 772707,\n",
    "     'tokens': ['a',\n",
    "      'man',\n",
    "      'riding',\n",
    "      'on',\n",
    "      'the',\n",
    "      'back',\n",
    "      'of',\n",
    "      'a',\n",
    "      'motorcycle']},\n",
    "    {'imgid': 0,\n",
    "     'raw': 'A dirt path with a young person on a motor bike rests to the foreground of a verdant area with a bridge and a background of cloud-wreathed mountains. ',\n",
    "     'sentid': 776154,\n",
    "     'tokens': ['a',\n",
    "      'dirt',\n",
    "      'path',\n",
    "      'with',\n",
    "      'a',\n",
    "      'young',\n",
    "      'person',\n",
    "      'on',\n",
    "      'a',\n",
    "      'motor',\n",
    "      'bike',\n",
    "      'rests',\n",
    "      'to',\n",
    "      'the',\n",
    "      'foreground',\n",
    "      'of',\n",
    "      'a',\n",
    "      'verdant',\n",
    "      'area',\n",
    "      'with',\n",
    "      'a',\n",
    "      'bridge',\n",
    "      'and',\n",
    "      'a',\n",
    "      'background',\n",
    "      'of',\n",
    "      'cloud',\n",
    "      'wreathed',\n",
    "      'mountains']},\n",
    "      ...\n",
    "      {'imgid': 999,\n",
    "     'raw': 'A vase filled with assorted color flowers sitting on a table.',\n",
    "     'sentid': 75170,\n",
    "     'tokens': ['a',\n",
    "      'vase',\n",
    "      'filled',\n",
    "      'with',\n",
    "      'assorted',\n",
    "      'color',\n",
    "      'flowers',\n",
    "      'sitting',\n",
    "      'on',\n",
    "      'a',\n",
    "      'table']}],\n",
    "   'sentids': [69920, 71639, 71693, 73331, 75170],\n",
    "   'split': 'restval'},\n",
    "  ...]}\n",
    "'''"
   ]
  },
  {
   "cell_type": "code",
   "execution_count": 0,
   "metadata": {
    "colab": {
     "base_uri": "https://localhost:8080/",
     "height": 34
    },
    "colab_type": "code",
    "id": "9maPLhU_hrG7",
    "outputId": "59b0942c-4ccb-4d7a-c6b9-77e32b7b052b"
   },
   "outputs": [
    {
     "data": {
      "text/plain": [
       "391895"
      ]
     },
     "execution_count": 29,
     "metadata": {
      "tags": []
     },
     "output_type": "execute_result"
    }
   ],
   "source": [
    "# Lets create a relationaship between this coco data and trainnig data!\n",
    "data[\"images\"][0][\"cocoid\"]\n"
   ]
  },
  {
   "cell_type": "code",
   "execution_count": 137,
   "metadata": {
    "colab": {
     "base_uri": "https://localhost:8080/",
     "height": 142
    },
    "colab_type": "code",
    "id": "q_cWImqgjKxr",
    "outputId": "83448203-4604-41ca-9f38-385840d2bac4"
   },
   "outputs": [
    {
     "data": {
      "text/html": [
       "<div>\n",
       "<style scoped>\n",
       "    .dataframe tbody tr th:only-of-type {\n",
       "        vertical-align: middle;\n",
       "    }\n",
       "\n",
       "    .dataframe tbody tr th {\n",
       "        vertical-align: top;\n",
       "    }\n",
       "\n",
       "    .dataframe thead th {\n",
       "        text-align: right;\n",
       "    }\n",
       "</style>\n",
       "<table border=\"1\" class=\"dataframe\">\n",
       "  <thead>\n",
       "    <tr style=\"text-align: right;\">\n",
       "      <th></th>\n",
       "      <th>image_id</th>\n",
       "      <th>questions</th>\n",
       "      <th>multiple_choice_answer</th>\n",
       "    </tr>\n",
       "  </thead>\n",
       "  <tbody>\n",
       "    <tr>\n",
       "      <th>107517</th>\n",
       "      <td>391895</td>\n",
       "      <td>is the road paved</td>\n",
       "      <td>no</td>\n",
       "    </tr>\n",
       "    <tr>\n",
       "      <th>107518</th>\n",
       "      <td>391895</td>\n",
       "      <td>what type of road structure can be seen in the...</td>\n",
       "      <td>bridge</td>\n",
       "    </tr>\n",
       "    <tr>\n",
       "      <th>107519</th>\n",
       "      <td>391895</td>\n",
       "      <td>is the person wearing a helmet</td>\n",
       "      <td>yes</td>\n",
       "    </tr>\n",
       "  </tbody>\n",
       "</table>\n",
       "</div>"
      ],
      "text/plain": [
       "        image_id  ... multiple_choice_answer\n",
       "107517    391895  ...                     no\n",
       "107518    391895  ...                 bridge\n",
       "107519    391895  ...                    yes\n",
       "\n",
       "[3 rows x 3 columns]"
      ]
     },
     "execution_count": 137,
     "metadata": {
      "tags": []
     },
     "output_type": "execute_result"
    }
   ],
   "source": [
    "data_val_qa.loc[data_val_qa[\"image_id\"] == 391895]\n",
    "# Here, each cocoid is related to image_id of training and validation data. So we are going to collect cocoid and create a mapping file for it."
   ]
  },
  {
   "cell_type": "code",
   "execution_count": 0,
   "metadata": {
    "colab": {},
    "colab_type": "code",
    "id": "YGRpRGsjmKAu"
   },
   "outputs": [],
   "source": [
    "# creating coco_vgg_id_map file(Used later on)\n",
    "\n",
    "map_list = [ [data[\"images\"][i][\"cocoid\"], i]  for i in range(len(data[\"images\"]))]\n"
   ]
  },
  {
   "cell_type": "code",
   "execution_count": 0,
   "metadata": {
    "colab": {
     "base_uri": "https://localhost:8080/",
     "height": 187
    },
    "colab_type": "code",
    "id": "EagxISnXoElY",
    "outputId": "14dfc697-174b-46e2-81de-e58d54a17f7c"
   },
   "outputs": [
    {
     "data": {
      "text/plain": [
       "[[391895, 0],\n",
       " [522418, 1],\n",
       " [184613, 2],\n",
       " [318219, 3],\n",
       " [554625, 4],\n",
       " [397133, 5],\n",
       " [574769, 6],\n",
       " [60623, 7],\n",
       " [309022, 8],\n",
       " [5802, 9]]"
      ]
     },
     "execution_count": 38,
     "metadata": {
      "tags": []
     },
     "output_type": "execute_result"
    }
   ],
   "source": [
    "map_list[0:10]"
   ]
  },
  {
   "cell_type": "code",
   "execution_count": 0,
   "metadata": {
    "colab": {},
    "colab_type": "code",
    "id": "XAJgY5kG1WKH"
   },
   "outputs": [],
   "source": [
    "import pandas as pd\n",
    "\n",
    "datafrm = pd.DataFrame(map_list)"
   ]
  },
  {
   "cell_type": "code",
   "execution_count": 0,
   "metadata": {
    "colab": {},
    "colab_type": "code",
    "id": "4e39hEzP4DCx"
   },
   "outputs": [],
   "source": [
    "datafrm.to_csv('coco_vgg_id_map.txt', header = None, index = None, sep=' ', mode = 'a')"
   ]
  },
  {
   "cell_type": "code",
   "execution_count": 0,
   "metadata": {
    "colab": {
     "base_uri": "https://localhost:8080/",
     "height": 34
    },
    "colab_type": "code",
    "id": "6uPnvFXUm_2M",
    "outputId": "83bb9ec9-537c-421b-ec41-035f33fc3981"
   },
   "outputs": [
    {
     "name": "stdout",
     "output_type": "stream",
     "text": [
      "Uploaded file with ID 1iLrNPNQ3GMZquyE7QhB7l9Yt4mS46r_p\n"
     ]
    }
   ],
   "source": [
    "uploaded = drive.CreateFile({'title': 'coco_vgg_id_map.txt'})\n",
    "uploaded.SetContentFile('coco_vgg_id_map.txt')\n",
    "uploaded.Upload()\n",
    "print('Uploaded file with ID {}'.format(uploaded.get('id')))"
   ]
  },
  {
   "cell_type": "markdown",
   "metadata": {
    "colab_type": "text",
    "id": "0XfVBrkRCihv"
   },
   "source": [
    "### Downoad Image Data"
   ]
  },
  {
   "cell_type": "markdown",
   "metadata": {
    "colab_type": "text",
    "id": "eS8R7fi7Cm8o"
   },
   "source": [
    "Finding the image_id of each image."
   ]
  },
  {
   "cell_type": "code",
   "execution_count": 0,
   "metadata": {
    "colab": {
     "base_uri": "https://localhost:8080/",
     "height": 391
    },
    "colab_type": "code",
    "id": "IR0nO6VKdtMt",
    "outputId": "144d2bad-d154-46d4-d496-3effc87dd99e"
   },
   "outputs": [
    {
     "name": "stdout",
     "output_type": "stream",
     "text": [
      "--2019-06-15 13:16:35--  http://images.cocodataset.org/zips/train2014.zip\n",
      "Resolving images.cocodataset.org (images.cocodataset.org)... 52.216.17.144\n",
      "Connecting to images.cocodataset.org (images.cocodataset.org)|52.216.17.144|:80... connected.\n",
      "HTTP request sent, awaiting response... 200 OK\n",
      "Length: 13510573713 (13G) [application/zip]\n",
      "Saving to: ‘train2014.zip’\n",
      "\n",
      "train2014.zip       100%[===================>]  12.58G  19.8MB/s    in 10m 51s \n",
      "\n",
      "2019-06-15 13:27:27 (19.8 MB/s) - ‘train2014.zip’ saved [13510573713/13510573713]\n",
      "\n",
      "--2019-06-15 13:27:29--  http://images.cocodataset.org/zips/val2014.zip\n",
      "Resolving images.cocodataset.org (images.cocodataset.org)... 52.216.128.171\n",
      "Connecting to images.cocodataset.org (images.cocodataset.org)|52.216.128.171|:80... connected.\n",
      "HTTP request sent, awaiting response... 200 OK\n",
      "Length: 6645013297 (6.2G) [application/zip]\n",
      "Saving to: ‘val2014.zip’\n",
      "\n",
      "val2014.zip         100%[===================>]   6.19G  20.0MB/s    in 5m 19s  \n",
      "\n",
      "2019-06-15 13:32:49 (19.8 MB/s) - ‘val2014.zip’ saved [6645013297/6645013297]\n",
      "\n"
     ]
    }
   ],
   "source": [
    "# Download image datasets!\n",
    "!wget http://images.cocodataset.org/zips/train2014.zip\n",
    "!wget http://images.cocodataset.org/zips/val2014.zip      "
   ]
  },
  {
   "cell_type": "code",
   "execution_count": null,
   "metadata": {},
   "outputs": [],
   "source": [
    "# Since training is very large, and will take long time to unzip, we are going to unzip validation data.\n",
    "# Although we dont need the image dataset, but still we are going to look at it.\n",
    "!unzip val2014.zip"
   ]
  },
  {
   "cell_type": "code",
   "execution_count": 0,
   "metadata": {
    "colab": {
     "base_uri": "https://localhost:8080/",
     "height": 286
    },
    "colab_type": "code",
    "id": "zBdax443AqKK",
    "outputId": "5aa2b5bf-c5eb-44be-fc7d-569d0b20017a"
   },
   "outputs": [
    {
     "name": "stdout",
     "output_type": "stream",
     "text": [
      "Populating the interactive namespace from numpy and matplotlib\n"
     ]
    },
    {
     "data": {
      "image/png": "[encoded data removed]",
      "text/plain": [
       "<Figure size 432x288 with 1 Axes>"
      ]
     },
     "metadata": {
      "tags": []
     },
     "output_type": "display_data"
    }
   ],
   "source": [
    "%pylab inline\n",
    "import matplotlib.pyplot as plt\n",
    "import matplotlib.image as mpimg\n",
    "\n",
    "image_directory = '/content/coco/val2014/COCO_val2014_000000324670.jpg'\n",
    "\n",
    "img = mpimg.imread(image_directory)\n",
    "imgplot = plt.imshow(img)\n",
    "plt.show()\n"
   ]
  },
  {
   "cell_type": "code",
   "execution_count": 0,
   "metadata": {
    "colab": {},
    "colab_type": "code",
    "id": "k3_GcMZK3_0S"
   },
   "outputs": [],
   "source": [
    "import pandas as pd\n",
    "import pickle\n",
    "\n",
    "validation_data_pickle = open(\"Validation Data QA.pickle\", \"rb\")\n",
    "validation_data = pickle.load(validation_data_pickle)\n",
    "validation_data_pickle.close()\n"
   ]
  },
  {
   "cell_type": "code",
   "execution_count": 139,
   "metadata": {
    "colab": {
     "base_uri": "https://localhost:8080/",
     "height": 142
    },
    "colab_type": "code",
    "id": "X30hwGMiAjOF",
    "outputId": "60ec4f2c-a51f-42e6-967a-091c057a6c01"
   },
   "outputs": [
    {
     "data": {
      "text/html": [
       "<div>\n",
       "<style scoped>\n",
       "    .dataframe tbody tr th:only-of-type {\n",
       "        vertical-align: middle;\n",
       "    }\n",
       "\n",
       "    .dataframe tbody tr th {\n",
       "        vertical-align: top;\n",
       "    }\n",
       "\n",
       "    .dataframe thead th {\n",
       "        text-align: right;\n",
       "    }\n",
       "</style>\n",
       "<table border=\"1\" class=\"dataframe\">\n",
       "  <thead>\n",
       "    <tr style=\"text-align: right;\">\n",
       "      <th></th>\n",
       "      <th>image_id</th>\n",
       "      <th>questions</th>\n",
       "      <th>multiple_choice_answer</th>\n",
       "    </tr>\n",
       "  </thead>\n",
       "  <tbody>\n",
       "    <tr>\n",
       "      <th>10725</th>\n",
       "      <td>324670</td>\n",
       "      <td>could this be a seabird</td>\n",
       "      <td>yes</td>\n",
       "    </tr>\n",
       "    <tr>\n",
       "      <th>10726</th>\n",
       "      <td>324670</td>\n",
       "      <td>what element of this photograph is in sharp focus</td>\n",
       "      <td>bird</td>\n",
       "    </tr>\n",
       "    <tr>\n",
       "      <th>10727</th>\n",
       "      <td>324670</td>\n",
       "      <td>is it a cold day</td>\n",
       "      <td>no</td>\n",
       "    </tr>\n",
       "  </tbody>\n",
       "</table>\n",
       "</div>"
      ],
      "text/plain": [
       "       image_id  ... multiple_choice_answer\n",
       "10725    324670  ...                    yes\n",
       "10726    324670  ...                   bird\n",
       "10727    324670  ...                     no\n",
       "\n",
       "[3 rows x 3 columns]"
      ]
     },
     "execution_count": 139,
     "metadata": {
      "tags": []
     },
     "output_type": "execute_result"
    }
   ],
   "source": [
    "# Let's check for the image_id.\n",
    "image_id = \"324670\" # Lst six digit of each image name.\n",
    "validation_data.loc[validation_data[\"image_id\"] == 324670 ]"
   ]
  },
  {
   "cell_type": "markdown",
   "metadata": {
    "colab_type": "text",
    "id": "ZI_eGMhMBGvU"
   },
   "source": [
    "So, the last six digits numbers of the image name is the image_id."
   ]
  },
  {
   "cell_type": "markdown",
   "metadata": {
    "colab_type": "text",
    "id": "-ASZfv_fDA2K"
   },
   "source": [
    "Continue to the next notebook."
   ]
  },
  {
   "cell_type": "code",
   "execution_count": 0,
   "metadata": {
    "colab": {},
    "colab_type": "code",
    "id": "S2zLtbRHDJFd"
   },
   "outputs": [],
   "source": []
  }
 ],
 "metadata": {
  "accelerator": "GPU",
  "colab": {
   "collapsed_sections": [],
   "name": "Data.ipynb",
   "provenance": [],
   "version": "0.3.2"
  },
  "kernelspec": {
   "display_name": "Python [default]",
   "language": "python",
   "name": "python3"
  },
  "language_info": {
   "codemirror_mode": {
    "name": "ipython",
    "version": 3
   },
   "file_extension": ".py",
   "mimetype": "text/x-python",
   "name": "python",
   "nbconvert_exporter": "python",
   "pygments_lexer": "ipython3",
   "version": "3.5.4"
  }
 },
 "nbformat": 4,
 "nbformat_minor": 1
}
